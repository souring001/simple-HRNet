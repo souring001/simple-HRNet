{
 "cells": [
  {
   "cell_type": "code",
   "execution_count": null,
   "metadata": {},
   "outputs": [],
   "source": [
    "import cv2\n",
    "from SimpleHRNet import SimpleHRNet\n",
    "from misc import visualization\n",
    "from matplotlib import pyplot as plt\n",
    "import math\n",
    "import os\n",
    "from IPython.display import clear_output\n",
    "import torch\n",
    "\n",
    "DIR = 'gen1_6'\n",
    "\n",
    "ROOT_DIR = os.path.abspath(\"./\")\n",
    "IMAGE_DIR = os.path.join(ROOT_DIR, DIR)\n",
    "OUT_DIR = os.path.join(ROOT_DIR, DIR+'_hrnet')\n",
    "\n",
    "os.makedirs(OUT_DIR, exist_ok=True)\n",
    "\n",
    "model = SimpleHRNet(48, 17, './weights/pose_hrnet_w48_384x288.pth', multiperson=False, device=torch.device(\"cuda\"))\n",
    "joints_dict = visualization.joints_dict()\n",
    "\n",
    "file_names = next(os.walk(IMAGE_DIR))[2]\n",
    "\n",
    "path_p = os.path.join(OUT_DIR, 'hrnet_2d_pos.csv')\n",
    "path_w = os.path.join(OUT_DIR, 'pelvis.csv')\n",
    "\n",
    "pos_text = ''\n",
    "pelvis_text = ''\n",
    "\n",
    "for file_name in sorted(file_names):\n",
    "    image = cv2.imread(os.path.join(IMAGE_DIR, file_name), cv2.IMREAD_COLOR)\n",
    "    joints = model.predict(image)\n",
    "    \n",
    "    pos2d = joints[0]\n",
    "    \n",
    "    for i in range(pos2d.shape[0]):\n",
    "        pos_text += str(pos2d[i][0]) + ',' + str(pos2d[i][1])\n",
    "        if i != pos2d.shape[0]-1:\n",
    "            pos_text += ','\n",
    "    \n",
    "    pos_text += '\\n'\n",
    "    \n",
    "    # y, xとなっているため入れ替える\n",
    "    px = (pos2d[10][1] + pos2d[11][1])/2\n",
    "    py = (pos2d[10][0] + pos2d[11][0])/2\n",
    "    pelvis_text += str(px) + ',' + str(py) + '\\n'\n",
    "    \n",
    "    image = visualization.draw_points_and_skeleton(image, joints[0], joints_dict['coco']['skeleton'], confidence_threshold=0.0)\n",
    "    cv2.imwrite(os.path.join(OUT_DIR, file_name), image)\n",
    "    \n",
    "    clear_output(wait=True)\n",
    "    print(file_name)\n",
    "    \n",
    "with open(path_p, mode='w') as f:\n",
    "    f.write(pos_text)\n",
    "    \n",
    "with open(path_w, mode='w') as f:\n",
    "    f.write(pelvis_text)\n",
    "    \n",
    "print('done.')"
   ]
  },
  {
   "cell_type": "markdown",
   "metadata": {},
   "source": [
    "以下草稿、1枚ずつ試す方法"
   ]
  },
  {
   "cell_type": "code",
   "execution_count": null,
   "metadata": {},
   "outputs": [],
   "source": [
    "import cv2\n",
    "from SimpleHRNet import SimpleHRNet\n",
    "from misc import visualization\n",
    "from matplotlib import pyplot as plt"
   ]
  },
  {
   "cell_type": "code",
   "execution_count": null,
   "metadata": {},
   "outputs": [],
   "source": [
    "model = SimpleHRNet(48, 17, './weights/pose_hrnet_w48_384x288.pth', multiperson=False)\n",
    "image = cv2.imread('images/image.png', cv2.IMREAD_COLOR)\n",
    "\n",
    "joints = model.predict(image)"
   ]
  },
  {
   "cell_type": "code",
   "execution_count": null,
   "metadata": {},
   "outputs": [],
   "source": [
    "joints[0]"
   ]
  },
  {
   "cell_type": "code",
   "execution_count": null,
   "metadata": {},
   "outputs": [],
   "source": [
    "joints_dict = visualization.joints_dict()\n",
    "image = visualization.draw_points_and_skeleton(image, joints[0], joints_dict['coco']['skeleton'], confidence_threshold=0.0)\n",
    "\n",
    "image2 = cv2.cvtColor(image, cv2.COLOR_BGR2RGB)\n",
    "plt.imshow(image2)\n",
    "plt.xticks([]), plt.yticks([])  # to hide tick values on X and Y axis\n",
    "plt.show()"
   ]
  }
 ],
 "metadata": {
  "kernelspec": {
   "display_name": "Python 3",
   "language": "python",
   "name": "python3"
  },
  "language_info": {
   "codemirror_mode": {
    "name": "ipython",
    "version": 3
   },
   "file_extension": ".py",
   "mimetype": "text/x-python",
   "name": "python",
   "nbconvert_exporter": "python",
   "pygments_lexer": "ipython3",
   "version": "3.8.3"
  }
 },
 "nbformat": 4,
 "nbformat_minor": 2
}
